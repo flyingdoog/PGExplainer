{
 "cells": [
  {
   "cell_type": "code",
   "execution_count": 1,
   "metadata": {},
   "outputs": [],
   "source": [
    "import sys\n",
    "sys.path.append('./codes/forgraph/')\n",
    "from config import args\n",
    "import matplotlib.pyplot as plt\n",
    "from utils import get_graph_data\n",
    "from models import GCN\n",
    "from metrics import *\n",
    "import numpy as np\n",
    "from Explainer import Explainer\n",
    "from scipy.sparse import coo_matrix\n",
    "import networkx as nx\n",
    "from sklearn.metrics import roc_auc_score\n",
    "import pickle as pkl\n"
   ]
  },
  {
   "cell_type": "code",
   "execution_count": 2,
   "metadata": {},
   "outputs": [
    {
     "name": "stdout",
     "output_type": "stream",
     "text": [
      "elr 0.01\n",
      "coff_t0 5.0\n",
      "coff_te 1.0\n",
      "coff_size 0.01\n",
      "coff_ent 0.01\n"
     ]
    }
   ],
   "source": [
    "clip_value_min = -2.0\n",
    "clip_value_max = 2.0\n",
    "args.eepochs = 10\n",
    "args.dataset = \"Mutagenicity\"\n",
    "args.elr = 0.01\n",
    "# args.coff_t0 = 5.0 # For this dataset, high temperature works well.\n",
    "# args.coff_te = 5.0\n",
    "# args.elr = 0.0003\n",
    "# args.coff_size = 0.005\n",
    "# args.coff_ent = 1.0\n",
    "\n",
    "print('elr',args.elr)\n",
    "print('coff_t0',args.coff_t0)\n",
    "print('coff_te',args.coff_te)\n",
    "print('coff_size',args.coff_size)\n",
    "print('coff_ent',args.coff_ent)\n"
   ]
  },
  {
   "cell_type": "code",
   "execution_count": 3,
   "metadata": {},
   "outputs": [
    {
     "name": "stdout",
     "output_type": "stream",
     "text": [
      "number of mutagen graphs with NO2 and NH2 1015\n"
     ]
    }
   ],
   "source": [
    "edge_lists, graph_labels, edge_label_lists, node_label_lists = get_graph_data(args.dataset)\n",
    "with open('./dataset/Mutagenicity.pkl','rb') as fin:\n",
    "    original_adjs,original_features,original_labels = pkl.load(fin)\n",
    "\n",
    "# we only consider the mutagen graphs with NO2 and NH2.\n",
    "selected =  []\n",
    "for gid in range(original_adjs.shape[0]):\n",
    "    if np.argmax(original_labels[gid]) == 0 and np.sum(edge_label_lists[gid]) > 0:\n",
    "        selected.append(gid)\n",
    "print('number of mutagen graphs with NO2 and NH2',len(selected))\n",
    "selected_adjs = original_adjs[selected]\n",
    "selected_features = original_features[selected]\n",
    "selected_labels = original_labels[selected]\n",
    "selected_edge_lists = [edge_lists[i] for i in selected]\n",
    "selected_graph_labels=graph_labels[selected]\n",
    "selected_edge_label_lists=[edge_label_lists[i] for i in selected]\n",
    "selected_node_label_lists=[node_label_lists[i] for i in selected]\n"
   ]
  },
  {
   "cell_type": "code",
   "execution_count": 4,
   "metadata": {},
   "outputs": [],
   "source": [
    "model = GCN(input_dim=selected_features.shape[-1], output_dim=selected_labels.shape[1])\n",
    "model.load_weights(args.save_path+args.dataset)\n",
    "\n",
    "selected_adjs_tensor = tf.convert_to_tensor(selected_adjs,dtype=tf.float32)\n",
    "selected_features_tensor = tf.convert_to_tensor(selected_features,dtype=tf.float32)\n",
    "selected_labels_tensor = tf.convert_to_tensor(selected_labels,dtype=tf.float32)\n",
    "selected_output = model.call((selected_features_tensor,selected_adjs_tensor),training=False)\n",
    "selected_acc = accuracy(selected_output, selected_labels_tensor)\n",
    "selected_pred_label = tf.argmax(selected_output, 1)\n",
    "selected_embs = model.getNodeEmb((selected_features_tensor, selected_adjs_tensor), training=False)\n",
    "\n",
    "\n",
    "explainer = Explainer(model=model,nodesize=selected_adjs.shape[1])\n",
    "optimizer = tf.keras.optimizers.Adam(learning_rate=args.elr)\n"
   ]
  },
  {
   "cell_type": "code",
   "execution_count": 5,
   "metadata": {},
   "outputs": [],
   "source": [
    "reals = []\n",
    "preds = []\n",
    "def acc(explainer, gid):\n",
    "    mask = explainer.masked_adj.numpy()\n",
    "    edge_labels = selected_edge_label_lists[gid]\n",
    "    edge_list = selected_edge_lists[gid]\n",
    "    for (r,c),l in list(zip(edge_list,edge_labels)):\n",
    "        if r>c:\n",
    "            reals.append(l)\n",
    "            preds.append(mask[r][c])\n",
    "\n",
    "\n",
    "def explain_graph(fea,emb,adj,label,graphid, needplot=True):\n",
    "    explainer((fea,emb,adj,1.0,label))\n",
    "    acc(explainer,graphid)\n",
    "    if not needplot:\n",
    "        return\n",
    "    after_adj_dense = explainer.masked_adj.numpy()\n",
    "    after_adj = coo_matrix(after_adj_dense)\n",
    "    rcd = np.concatenate(\n",
    "        [np.expand_dims(after_adj.row, -1), np.expand_dims(after_adj.col, -1), np.expand_dims(after_adj.data, -1)], -1)\n",
    "    pos_edges = []\n",
    "    filter_edges = []\n",
    "    edge_weights = np.triu(after_adj_dense).flatten()\n",
    "\n",
    "    sorted_edge_weights = np.sort(edge_weights)\n",
    "    thres_index = max(int(edge_weights.shape[0] - topk), 0)\n",
    "    thres = sorted_edge_weights[thres_index]\n",
    "\n",
    "    for r, c, d in rcd:\n",
    "        r = int(r)\n",
    "        c = int(c)\n",
    "        d = float(d)\n",
    "        if r < c:\n",
    "            continue\n",
    "        if d >= thres:\n",
    "            pos_edges.append((r, c))\n",
    "        filter_edges.append((r, c))\n",
    "\n",
    "    node_label = selected_node_label_lists[graphid]\n",
    "    max_label = np.max(node_label) + 1\n",
    "    nmb_nodes = len(node_label)\n",
    "\n",
    "\n",
    "    G = nx.Graph()\n",
    "    G.add_nodes_from(range(nmb_nodes))\n",
    "    G.add_edges_from(filter_edges)\n",
    "\n",
    "    pos_edges = [(u, v) for (u, v) in pos_edges if u in G.nodes() and v in G.nodes()]\n",
    "    pos = nx.kamada_kawai_layout(G)\n",
    "\n",
    "\n",
    "    colors = ['orange','red','lime','green','blue','orchid','darksalmon','darkslategray','gold','bisque','tan','lightseagreen','indigo','navy']\n",
    "\n",
    "    label2nodes = []\n",
    "    for i in range(max_label):\n",
    "        label2nodes.append([])\n",
    "    for i in range(nmb_nodes):\n",
    "        if i in G.nodes():\n",
    "            label2nodes[node_label[i]].append(i)\n",
    "\n",
    "    for i in range(max_label):\n",
    "        node_filter = []\n",
    "        for j in range(len(label2nodes[i])):\n",
    "            node_filter.append(label2nodes[i][j])\n",
    "        nx.draw_networkx_nodes(G, pos,\n",
    "                               nodelist=node_filter,\n",
    "                               node_color=colors[i],\n",
    "                               node_size=300)\n",
    "\n",
    "    nx.draw_networkx_edges(G, pos, width=2,  edge_color='grey')\n",
    "\n",
    "    nx.draw_networkx_edges(G, pos,\n",
    "                           edgelist=pos_edges,\n",
    "                           width=7)\n",
    "\n",
    "    plt.title('Graph: '+str(graphid)+' label: '+str(selected_graph_labels[graphid]))\n",
    "    plt.axis('off')\n",
    "    plt.show()\n",
    "    plt.clf()\n"
   ]
  },
  {
   "cell_type": "code",
   "execution_count": 6,
   "metadata": {},
   "outputs": [],
   "source": [
    "def train():\n",
    "    epochs = args.eepochs\n",
    "    t0 = args.coff_t0\n",
    "    t1 = args.coff_te\n",
    "\n",
    "    for epoch in range(epochs):\n",
    "        loss = 0\n",
    "        tmp = t0 * np.power(t1 / t0, epoch /epochs )\n",
    "        for gid in range(selected_adjs.shape[0]):\n",
    "            with tf.GradientTape() as tape:\n",
    "                    pred = explainer((selected_features[gid],selected_embs[gid],\\\n",
    "                                      selected_adjs[gid],tmp, selected_labels[gid]),training=True)\n",
    "                    cl = explainer.loss(pred, selected_pred_label[gid])\n",
    "                    loss += cl\n",
    "        train_variables = [para for para in explainer.trainable_variables\n",
    "                           if para.name.startswith('explainer')]\n",
    "        grads = tape.gradient(loss, train_variables)\n",
    "        cliped_grads = [tf.clip_by_value(t, clip_value_min, clip_value_max) for t in grads]\n",
    "        optimizer.apply_gradients(zip(cliped_grads, train_variables))\n",
    "        if epoch%1==0:\n",
    "            print('epoch',epoch,'loss',loss.numpy())\n",
    "            global  reals\n",
    "            global preds\n",
    "            reals =[]\n",
    "            preds =[]\n",
    "            for gid in range(int(selected_adjs.shape[0]/10)):\n",
    "                fea, emb, adj, label = selected_features[gid], selected_embs[gid], selected_adjs[gid], selected_labels[\n",
    "                    gid]\n",
    "                explain_graph(fea, emb, adj, label, gid, needplot=False)\n",
    "\n",
    "            auc = roc_auc_score(reals, preds)\n",
    "            print(auc)\n",
    "\n",
    "#     explainer.save_weights(args.save_path +args.dataset+ 'expaliner')\n",
    "\n"
   ]
  },
  {
   "cell_type": "code",
   "execution_count": 7,
   "metadata": {},
   "outputs": [
    {
     "name": "stdout",
     "output_type": "stream",
     "text": [
      "WARNING:tensorflow:Layer explainer is casting an input tensor from dtype float64 to the layer's dtype of float32, which is new behavior in TensorFlow 2.  The layer has dtype float32 because it's dtype defaults to floatx.\n",
      "\n",
      "If you intended to run this layer in float32, you can safely ignore this warning. If in doubt, this warning is likely only an issue if you are porting a TensorFlow 1.X model to TensorFlow 2.\n",
      "\n",
      "To change all layers to have dtype float64 by default, call `tf.keras.backend.set_floatx('float64')`. To change just this layer, pass dtype='float64' to the layer constructor. If you are the author of this layer, you can disable autocasting by passing autocast=False to the base Layer constructor.\n",
      "\n",
      "epoch 0 loss 1104182.6\n",
      "0.6773124283509263\n",
      "epoch 1 loss 1102578.0\n",
      "0.8010161261712059\n",
      "epoch 2 loss 1100636.1\n",
      "0.8721740811047658\n",
      "epoch 3 loss 1097936.6\n",
      "0.9007542843829508\n",
      "epoch 4 loss 1094351.1\n",
      "0.8995655385495183\n",
      "epoch 5 loss 1089632.4\n",
      "0.9119957427543426\n",
      "epoch 6 loss 1083602.0\n",
      "0.9129594476170809\n",
      "epoch 7 loss 1076147.0\n",
      "0.916583931015676\n",
      "epoch 8 loss 1067117.4\n",
      "0.916583931015676\n",
      "epoch 9 loss 1056627.5\n",
      "0.919755684932051\n"
     ]
    }
   ],
   "source": [
    "train()"
   ]
  },
  {
   "cell_type": "code",
   "execution_count": 8,
   "metadata": {},
   "outputs": [
    {
     "name": "stdout",
     "output_type": "stream",
     "text": [
      "0.8946489155121711\n"
     ]
    }
   ],
   "source": [
    "reals = []\n",
    "preds = []\n",
    "\n",
    "for gid in range(selected_adjs.shape[0]):\n",
    "    fea, emb, adj, label = selected_features[gid], selected_embs[gid], selected_adjs[gid], selected_labels[gid]\n",
    "    explain_graph(fea,emb,adj,label,gid,needplot=False)\n",
    "\n",
    "auc = roc_auc_score(reals, preds)\n",
    "print(auc)"
   ]
  },
  {
   "cell_type": "code",
   "execution_count": 9,
   "metadata": {},
   "outputs": [
    {
     "data": {
      "image/png": "[encoded data removed]",
      "text/plain": [
       "<Figure size 432x288 with 1 Axes>"
      ]
     },
     "metadata": {},
     "output_type": "display_data"
    },
    {
     "data": {
      "text/plain": [
       "<Figure size 432x288 with 0 Axes>"
      ]
     },
     "metadata": {},
     "output_type": "display_data"
    }
   ],
   "source": [
    "gid = 0\n",
    "topk = 2\n",
    "fea, emb, adj, label = selected_features[gid], selected_embs[gid], selected_adjs[gid], selected_labels[gid]\n",
    "explain_graph(fea,emb,adj,label,gid,needplot=True)"
   ]
  },
  {
   "cell_type": "code",
   "execution_count": null,
   "metadata": {},
   "outputs": [],
   "source": []
  }
 ],
 "metadata": {
  "kernelspec": {
   "display_name": "tf22",
   "language": "python",
   "name": "tf22"
  },
  "language_info": {
   "codemirror_mode": {
    "name": "ipython",
    "version": 3
   },
   "file_extension": ".py",
   "mimetype": "text/x-python",
   "name": "python",
   "nbconvert_exporter": "python",
   "pygments_lexer": "ipython3",
   "version": "3.7.7"
  }
 },
 "nbformat": 4,
 "nbformat_minor": 4
}
