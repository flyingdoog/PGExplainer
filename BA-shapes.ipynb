{
 "cells": [
  {
   "cell_type": "code",
   "execution_count": 1,
   "metadata": {},
   "outputs": [],
   "source": [
    "import sys\n",
    "sys.path.append('./codes/')\n",
    "from config import args\n",
    "\n",
    "args.dataset='syn1'\n",
    "args.elr = 0.003\n",
    "args.eepochs = 10\n",
    "args.coff_size = 0.05\n",
    "args.budget = -1\n",
    "args.coff_ent = 1.0\n",
    "\n",
    "from tqdm import tqdm\n",
    "import tensorflow as tf\n",
    "from utils import *\n",
    "from models import GCN\n",
    "from metrics import *\n",
    "import numpy as np\n",
    "from Extractor import Extractor\n",
    "from Explainer import Explainer\n",
    "from scipy.sparse import coo_matrix,csr_matrix\n",
    "import networkx as nx\n",
    "import matplotlib.pyplot as plt\n",
    "from sklearn.metrics import roc_auc_score\n"
   ]
  },
  {
   "cell_type": "code",
   "execution_count": 2,
   "metadata": {},
   "outputs": [
    {
     "name": "stdout",
     "output_type": "stream",
     "text": [
      "explainer\n"
     ]
    }
   ],
   "source": [
    "with open('./dataset/' + args.dataset + '.pkl', 'rb') as fin:\n",
    "    adj, features, y_train, y_val, y_test, train_mask, val_mask, test_mask, edge_label_matrix  = pkl.load(fin)\n",
    "\n",
    "adj = csr_matrix(adj)\n",
    "support = preprocess_adj(adj)\n",
    "\n",
    "features_tensor = tf.convert_to_tensor(features,dtype=tf.float32)\n",
    "support_tensor = tf.SparseTensor(*support)\n",
    "support_tensor = tf.cast(support_tensor,tf.float32)\n",
    "\n",
    "model = GCN(input_dim=features.shape[1], output_dim=y_train.shape[1])\n",
    "model.load_weights(args.save_path+ args.dataset)\n",
    "\n",
    "explainer = Explainer(model=model)\n",
    "embeds = model.embedding((features_tensor,support_tensor)).numpy()\n",
    "\n",
    "all_label = np.logical_or(y_train,np.logical_or(y_val,y_test))\n",
    "single_label = np.argmax(all_label,axis=-1)\n",
    "hops = len(args.hiddens.split('-'))\n",
    "extractor = Extractor(adj,features,edge_label_matrix,embeds,all_label,hops)\n",
    "if args.setting==1:\n",
    "    if args.dataset=='syn3':\n",
    "        allnodes = [i for i in range(511,871,6)]\n",
    "    elif args.dataset=='syn4':\n",
    "        allnodes = [i for i in range(511,800,1)]\n",
    "    else:\n",
    "        allnodes = [i for i in range(400,700,5)] # setting from their original paper\n",
    "elif args.setting==2:\n",
    "    allnodes = [i for i in range(single_label.shape[0]) if single_label[i] ==1]\n",
    "elif args.setting==3:\n",
    "    if args.dataset == 'syn2':\n",
    "        allnodes = [i for i in range(single_label.shape[0]) if single_label[i] != 0 and single_label[i] != 4]\n",
    "    else:\n",
    "        allnodes = [i for i in range(single_label.shape[0]) if single_label[i] != 0]\n",
    "\n",
    "optimizer = tf.keras.optimizers.Adam(learning_rate=args.elr)\n",
    "clip_value_min = -2.0\n",
    "clip_value_max = 2.0\n",
    "\n",
    "sub_support_tensors = []\n",
    "sub_label_tensors = []\n",
    "sub_features = []\n",
    "sub_embeds = []\n",
    "sub_adjs = []\n",
    "sub_edge_labels = []\n",
    "sub_labels = []\n",
    "remap = {}"
   ]
  },
  {
   "cell_type": "code",
   "execution_count": 3,
   "metadata": {},
   "outputs": [],
   "source": [
    "for node in allnodes:\n",
    "    sub_adj,sub_feature, sub_embed, sub_label,sub_edge_label_matrix = extractor.subgraph(node)\n",
    "    remap[node]=len(sub_adjs)\n",
    "    sub_support = preprocess_adj(sub_adj)\n",
    "    sub_support_tensor = tf.cast(tf.SparseTensor(*sub_support),tf.float32)\n",
    "    sub_label_tensor = tf.convert_to_tensor(sub_label,dtype=tf.float32)\n",
    "\n",
    "    sub_adjs.append(sub_adj)\n",
    "    sub_features.append(tf.cast(sub_feature,tf.float32))\n",
    "    sub_embeds.append(sub_embed)\n",
    "    sub_labels.append(sub_label)\n",
    "    sub_edge_labels.append(sub_edge_label_matrix)\n",
    "    sub_label_tensors.append(sub_label_tensor)\n",
    "    sub_support_tensors.append(sub_support_tensor)\n",
    "best_auc = 0.0"
   ]
  },
  {
   "cell_type": "code",
   "execution_count": 4,
   "metadata": {},
   "outputs": [],
   "source": [
    "\n",
    "def plot(node,label):\n",
    "    after_adj_dense = explainer.masked_adj.numpy()\n",
    "    after_adj = coo_matrix(after_adj_dense)\n",
    "\n",
    "    rcd = np.concatenate([np.expand_dims(after_adj.row,-1),np.expand_dims(after_adj.col,-1),np.expand_dims(after_adj.data,-1)],-1)\n",
    "    pos_edges = []\n",
    "    filter_edges = []\n",
    "    edge_weights = after_adj.data\n",
    "    sorted_edge_weights = np.sort(edge_weights)\n",
    "    thres_index = max(int(edge_weights.shape[0]-12),0)\n",
    "    thres = sorted_edge_weights[thres_index]\n",
    "    filter_thres_index = min(thres_index,max(int(edge_weights.shape[0]-edge_weights.shape[0]/2),edge_weights.shape[0]-100))\n",
    "    # filter_thres_index = min(thres_index,max(int(edge_weights.shape[0]-edge_weights.shape[0]/4),edge_weights.shape[0]-100))\n",
    "    filter_thres = sorted_edge_weights[filter_thres_index]\n",
    "    filter_nodes =set()\n",
    "\n",
    "    # print(sorted_edge_weights)\n",
    "#     print('thres',thres)\n",
    "    for r,c,d in rcd:\n",
    "        r = int(r)\n",
    "        c = int(c)\n",
    "        if d>=thres:\n",
    "            pos_edges.append((r,c))\n",
    "        if d>filter_thres:\n",
    "            filter_edges.append((r,c))\n",
    "            filter_nodes.add(r)\n",
    "            filter_nodes.add(c)\n",
    "\n",
    "    num_nodes = sub_adj.shape[0]\n",
    "    G = nx.Graph()\n",
    "    G.add_nodes_from(range(num_nodes))\n",
    "    G.add_edges_from(filter_edges)\n",
    "\n",
    "    for cc in nx.connected_components(G):\n",
    "        if 0 in cc:\n",
    "            G = G.subgraph(cc).copy()\n",
    "            break\n",
    "\n",
    "    pos_edges = [(u, v) for (u, v) in pos_edges if u in G.nodes() and v in G.nodes()]\n",
    "    pos = nx.kamada_kawai_layout(G)\n",
    "\n",
    "    colors = ['orange', 'red', 'green', 'blue', 'maroon', 'brown', 'darkslategray', 'paleturquoise', 'darksalmon',\n",
    "              'slategray', 'mediumseagreen', 'mediumblue', 'orchid', ]\n",
    "    if args.dataset=='syn3':\n",
    "        colors = ['orange', 'blue']\n",
    "\n",
    "\n",
    "    if args.dataset=='syn4':\n",
    "        colors = ['orange', 'black','black','black','blue']\n",
    "\n",
    "\n",
    "    # nodes\n",
    "    labels = label#.numpy()\n",
    "    max_label = np.max(labels)+1\n",
    "#     print(max_label)\n",
    "\n",
    "    nmb_nodes = after_adj_dense.shape[0]\n",
    "    label2nodes= []\n",
    "    for i in range(max_label):\n",
    "    \tlabel2nodes.append([])\n",
    "    for i in range(nmb_nodes):\n",
    "    \tlabel2nodes[labels[i]].append(i)\n",
    "\n",
    "    for i in range(max_label):\n",
    "        node_filter = []\n",
    "        for j in range(len(label2nodes[i])):\n",
    "            if label2nodes[i][j] in G.nodes():\n",
    "                node_filter.append(label2nodes[i][j])\n",
    "        nx.draw_networkx_nodes(G, pos,\n",
    "                               nodelist=node_filter,\n",
    "                               node_color=colors[i % len(colors)],\n",
    "                               node_size=500)\n",
    "\n",
    "    nx.draw_networkx_nodes(G, pos,\n",
    "                           nodelist=[0],\n",
    "                           node_color=colors[labels[0]],\n",
    "                           node_size=1000)\n",
    "\n",
    "    nx.draw_networkx_edges(G, pos, width=7, alpha=0.5, edge_color='grey')\n",
    "\n",
    "    nx.draw_networkx_edges(G, pos,\n",
    "                           edgelist=pos_edges,\n",
    "                           width=7, alpha=0.5)\n",
    "\n",
    "\n",
    "    plt.axis('off')\n",
    "    plt.show()\n",
    "#     plt.savefig('./vis/'+args.dataset+'/P'+str(node)+'.png')\n",
    "    plt.clf()\n"
   ]
  },
  {
   "cell_type": "code",
   "execution_count": 5,
   "metadata": {},
   "outputs": [],
   "source": [
    "def train():\n",
    "    print('extract sub graphs done')\n",
    "    epochs = args.eepochs\n",
    "    for epoch in tqdm(range(epochs)):\n",
    "        train_accs = []\n",
    "        loss = 0\n",
    "        pred_loss = 0\n",
    "        lap_loss = 0\n",
    "        tmp = float(1.0*np.power(0.05,epoch/epochs))\n",
    "        with tf.GradientTape() as tape:\n",
    "            for i in range(len(allnodes)):\n",
    "                output = model.call((sub_features[i],sub_support_tensors[i]),training=False)\n",
    "                train_acc = accuracy(output, sub_label_tensors[i])\n",
    "                train_accs.append(float(train_acc))\n",
    "                pred_label = tf.argmax(output, 1)\n",
    "\n",
    "                x = sub_features[i]\n",
    "                adj = sub_adjs[i]\n",
    "                nodeid = 0\n",
    "                embed = sub_embeds[i]\n",
    "                pred = explainer((x,adj,nodeid,embed,tmp),training=True)\n",
    "                l,pl,ll = explainer.loss(pred, pred_label, sub_label_tensor, 0)\n",
    "                loss += l\n",
    "                pred_loss += pl\n",
    "                lap_loss += ll\n",
    "            train_variables = []\n",
    "            for para in explainer.trainable_variables:\n",
    "                if para.name.startswith('explainer'):\n",
    "                    train_variables.append(para)\n",
    "        grads = tape.gradient(loss, train_variables)\n",
    "        cliped_grads = [tf.clip_by_value(t, clip_value_min, clip_value_max) for t in grads]\n",
    "        optimizer.apply_gradients(zip(cliped_grads, train_variables))\n",
    "        explainer.save_weights(args.save_path + 'expaliner_'+args.dataset)\n",
    "\n",
    "\n",
    "reals = []\n",
    "preds = []\n",
    "def acc(sub_adj,sub_edge_label):\n",
    "    real = []\n",
    "    pred = []\n",
    "    sub_edge_label = sub_edge_label.todense()\n",
    "    mask = explainer.masked_adj.numpy()\n",
    "    for r,c in list(zip(sub_adj.row,sub_adj.col)):\n",
    "        d = sub_edge_label[r,c] + sub_edge_label[c,r]\n",
    "        if d==0:\n",
    "            real.append(0)\n",
    "        else:\n",
    "            real.append(1)\n",
    "        pred.append(mask[r][c]+mask[c][r])\n",
    "    reals.extend(real)\n",
    "    preds.extend(pred)\n",
    "\n",
    "    if len(np.unique(real))==1 or len(np.unique(pred))==1:\n",
    "        return -1\n",
    "    return roc_auc_score(real,pred)"
   ]
  },
  {
   "cell_type": "code",
   "execution_count": 6,
   "metadata": {},
   "outputs": [],
   "source": [
    "def explain_test(node,needplot=True):\n",
    "    newid = remap[node]\n",
    "    sub_adj, sub_feature, sub_embed, sub_label, sub_edge_label =  sub_adjs[newid],sub_features[newid],sub_embeds[newid],sub_labels[newid],sub_edge_labels[newid]\n",
    "\n",
    "    nodeid = 0\n",
    "    explainer((sub_feature,sub_adj,nodeid,sub_embed,1.0),training=False)\n",
    "    label = np.argmax(sub_label,-1)\n",
    "    if needplot:\n",
    "        plot(node,label)\n",
    "    acc(sub_adj,sub_edge_label)\n"
   ]
  },
  {
   "cell_type": "code",
   "execution_count": 7,
   "metadata": {},
   "outputs": [
    {
     "name": "stderr",
     "output_type": "stream",
     "text": [
      "\r",
      "  0%|          | 0/10 [00:00<?, ?it/s]"
     ]
    },
    {
     "name": "stdout",
     "output_type": "stream",
     "text": [
      "extract sub graphs done\n",
      "WARNING:tensorflow:Layer explainer is casting an input tensor from dtype float64 to the layer's dtype of float32, which is new behavior in TensorFlow 2.  The layer has dtype float32 because it's dtype defaults to floatx.\n",
      "\n",
      "If you intended to run this layer in float32, you can safely ignore this warning. If in doubt, this warning is likely only an issue if you are porting a TensorFlow 1.X model to TensorFlow 2.\n",
      "\n",
      "To change all layers to have dtype float64 by default, call `tf.keras.backend.set_floatx('float64')`. To change just this layer, pass dtype='float64' to the layer constructor. If you are the author of this layer, you can disable autocasting by passing autocast=False to the base Layer constructor.\n",
      "\n"
     ]
    },
    {
     "name": "stderr",
     "output_type": "stream",
     "text": [
      "100%|██████████| 10/10 [00:12<00:00,  1.26s/it]\n"
     ]
    }
   ],
   "source": [
    "train()\n"
   ]
  },
  {
   "cell_type": "code",
   "execution_count": 8,
   "metadata": {},
   "outputs": [
    {
     "data": {
      "text/plain": [
       "<tensorflow.python.training.tracking.util.CheckpointLoadStatus at 0x7fcf7c3da780>"
      ]
     },
     "execution_count": 8,
     "metadata": {},
     "output_type": "execute_result"
    }
   ],
   "source": [
    "explainer.load_weights(args.save_path + 'expaliner_'+args.dataset)"
   ]
  },
  {
   "cell_type": "code",
   "execution_count": 9,
   "metadata": {},
   "outputs": [
    {
     "name": "stdout",
     "output_type": "stream",
     "text": [
      "node  400 auc 1.0\n",
      "node  405 auc 1.0\n",
      "node  410 auc 1.0\n",
      "node  415 auc 1.0\n",
      "node  420 auc 1.0\n",
      "node  425 auc 1.0\n",
      "node  430 auc 0.9998598780378443\n",
      "node  435 auc 0.9998754758601059\n",
      "node  440 auc 0.9998928077455049\n",
      "node  445 auc 0.9999016886421467\n",
      "node  450 auc 0.999906548665414\n",
      "node  455 auc 0.9998415874603969\n",
      "node  460 auc 0.999849133354939\n",
      "node  465 auc 0.9998539909149903\n",
      "node  470 auc 0.9998600162086496\n",
      "node  475 auc 0.9998039597598949\n",
      "node  480 auc 0.9998171623598245\n",
      "node  485 auc 0.9998252795773542\n",
      "node  490 auc 0.9997808457470806\n",
      "node  495 auc 0.9997864489837862\n",
      "node  500 auc 0.999742476505515\n",
      "node  505 auc 0.9996990374525251\n",
      "node  510 auc 0.9996655472616831\n",
      "node  515 auc 0.9996827175946722\n",
      "node  520 auc 0.9996992650601318\n",
      "node  525 auc 0.9997075379952156\n",
      "node  530 auc 0.9996822268970965\n",
      "node  535 auc 0.9996932610457452\n",
      "node  540 auc 0.9997042905325908\n",
      "node  545 auc 0.9997118138407003\n",
      "node  550 auc 0.9997204226301561\n",
      "node  555 auc 0.9997271731473224\n",
      "node  560 auc 0.9996955652490004\n",
      "node  565 auc 0.9997034939382016\n",
      "node  570 auc 0.9997093546123874\n",
      "node  575 auc 0.9997129192677047\n",
      "node  580 auc 0.9996859493078312\n",
      "node  585 auc 0.9996899309003641\n",
      "node  590 auc 0.9996989272340906\n",
      "node  595 auc 0.9997064046139644\n",
      "node  600 auc 0.9997146440622822\n",
      "node  605 auc 0.9997196496923091\n",
      "node  610 auc 0.9997259361969455\n",
      "node  615 auc 0.9997306177671474\n",
      "node  620 auc 0.999735296189939\n",
      "node  625 auc 0.9997100012337172\n",
      "node  630 auc 0.9996842967198339\n",
      "node  635 auc 0.9996919771768104\n",
      "node  640 auc 0.9997009268620611\n",
      "node  645 auc 0.9997128952962243\n",
      "node  650 auc 0.9997151332979706\n",
      "node  655 auc 0.999718758259031\n",
      "node  660 auc 0.999724301622422\n",
      "node  665 auc 0.9997034793026115\n",
      "node  670 auc 0.9997064836583687\n",
      "node  675 auc 0.9997125682043715\n",
      "node  680 auc 0.9997159197854204\n",
      "node  685 auc 0.9997202702276865\n",
      "node  690 auc 0.9997242790291511\n",
      "node  695 auc 0.9997280786367185\n",
      "mean acc 0.9997280786367185\n"
     ]
    }
   ],
   "source": [
    "\n",
    "reals= []\n",
    "preds = []\n",
    "for node in allnodes:\n",
    "    explain_test(node,needplot=False)\n",
    "    auc = roc_auc_score(reals, preds)\n",
    "    print('node ',node, 'auc',auc)\n",
    "\n",
    "print('mean acc',auc)"
   ]
  },
  {
   "cell_type": "code",
   "execution_count": 12,
   "metadata": {},
   "outputs": [
    {
     "data": {
      "image/png": "[encoded data removed]",
      "text/plain": [
       "<Figure size 432x288 with 1 Axes>"
      ]
     },
     "metadata": {},
     "output_type": "display_data"
    },
    {
     "data": {
      "text/plain": [
       "<Figure size 432x288 with 0 Axes>"
      ]
     },
     "metadata": {},
     "output_type": "display_data"
    }
   ],
   "source": [
    "explain_test(allnodes[40],needplot=True)"
   ]
  },
  {
   "cell_type": "code",
   "execution_count": null,
   "metadata": {},
   "outputs": [],
   "source": []
  }
 ],
 "metadata": {
  "kernelspec": {
   "display_name": "tf2",
   "language": "python",
   "name": "tf2"
  },
  "language_info": {
   "codemirror_mode": {
    "name": "ipython",
    "version": 3
   },
   "file_extension": ".py",
   "mimetype": "text/x-python",
   "name": "python",
   "nbconvert_exporter": "python",
   "pygments_lexer": "ipython3",
   "version": "3.6.8"
  }
 },
 "nbformat": 4,
 "nbformat_minor": 2
}
