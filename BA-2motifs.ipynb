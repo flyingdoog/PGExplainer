{
 "cells": [
  {
   "cell_type": "code",
   "execution_count": 1,
   "metadata": {},
   "outputs": [],
   "source": [
    "import sys\n",
    "sys.path.append('./codes/forgraph/')\n",
    "from config import args\n",
    "from sklearn.metrics import roc_auc_score\n",
    "from models import GCN\n",
    "from metrics import *\n",
    "import numpy as np\n",
    "from Explainer import Explainer\n",
    "from scipy.sparse import coo_matrix,csr_matrix\n",
    "import networkx as nx\n",
    "skip = 5\n",
    "topk = 5\n",
    "import matplotlib\n",
    "import matplotlib.pyplot as plt\n",
    "import pickle as pkl\n",
    "\n",
    "\n",
    "args.elr = 0.003\n",
    "args.coff_t0=5.0\n",
    "args.coff_t0=1.0\n",
    "args.coff_size = 0.00\n",
    "args.coff_ent = 0.000\n",
    "\n"
   ]
  },
  {
   "cell_type": "code",
   "execution_count": 2,
   "metadata": {},
   "outputs": [
    {
     "name": "stdout",
     "output_type": "stream",
     "text": [
      "model acc 1.0\n"
     ]
    }
   ],
   "source": [
    "with open('./dataset/BA-2motif.pkl','rb') as fin:\n",
    "    adjs,features,labels = pkl.load(fin)\n",
    "\n",
    "model = GCN(input_dim=features.shape[-1], output_dim=labels.shape[1])\n",
    "model.load_weights(args.save_path+args.dataset)\n",
    "\n",
    "\n",
    "embs = model.getNodeEmb((tf.convert_to_tensor(features,dtype=tf.float32),\\\n",
    "                               tf.convert_to_tensor(adjs,dtype=tf.float32)), training=False)\n",
    "outputs = model.call((tf.convert_to_tensor(features,dtype=tf.float32),\\\n",
    "                            tf.convert_to_tensor(adjs,dtype=tf.float32)),training=False)\n",
    "pred_label = tf.argmax(outputs, 1)\n",
    "\n",
    "acc = accuracy(outputs, labels)\n",
    "print('model acc',acc.numpy())\n",
    "\n",
    "embs = model.getNodeEmb((tf.convert_to_tensor(features,dtype=tf.float32),\\\n",
    "                               tf.convert_to_tensor(adjs,dtype=tf.float32)), training=False)\n",
    "outputs = model.call((tf.convert_to_tensor(features,dtype=tf.float32),\\\n",
    "                            tf.convert_to_tensor(adjs,dtype=tf.float32)),training=False)\n",
    "pred_label = tf.argmax(outputs, 1)\n"
   ]
  },
  {
   "cell_type": "code",
   "execution_count": 3,
   "metadata": {},
   "outputs": [],
   "source": [
    "if args.setting==1:\n",
    "    allnodes = [i for i in range(0,100)]\n",
    "elif args.setting==2:\n",
    "    allnodes = [i for i in range(0,100)]\n",
    "    allnodes.extend([i for i in range(500,600)])\n",
    "elif args.setting==3:\n",
    "    allnodes=[i for i in range(1000)]\n",
    "explainer = Explainer(model=model,nodesize=adjs.shape[1])\n",
    "optimizer = tf.keras.optimizers.Adam(learning_rate=args.elr)\n"
   ]
  },
  {
   "cell_type": "code",
   "execution_count": 4,
   "metadata": {},
   "outputs": [],
   "source": [
    "def acc(adj,insert):\n",
    "    mask = explainer.masked_adj.numpy()\n",
    "    adj = coo_matrix(adj)\n",
    "    for r,c in list(zip(adj.row,adj.col)):\n",
    "        if r>=insert and r<insert+skip and c>=insert and c<insert+skip:\n",
    "            reals.append(1)\n",
    "        else:\n",
    "            reals.append(0)\n",
    "        preds.append(mask[r][c])"
   ]
  },
  {
   "cell_type": "code",
   "execution_count": 5,
   "metadata": {},
   "outputs": [],
   "source": [
    "def plot(adj,label,graphid):\n",
    "    after_adj_dense = explainer.masked_adj.numpy()\n",
    "\n",
    "    after_adj = coo_matrix(after_adj_dense)\n",
    "\n",
    "    rcd = np.concatenate(\n",
    "        [np.expand_dims(after_adj.row, -1), np.expand_dims(after_adj.col, -1), np.expand_dims(after_adj.data, -1)], -1)\n",
    "    pos_edges = []\n",
    "    filter_edges = []\n",
    "\n",
    "    edge_weights = np.triu(after_adj_dense).flatten()\n",
    "\n",
    "    sorted_edge_weights = np.sort(edge_weights)\n",
    "    thres_index = max(int(edge_weights.shape[0] - topk), 0)\n",
    "    thres = sorted_edge_weights[thres_index]\n",
    "\n",
    "    for r, c, d in rcd:\n",
    "        if r<c:\n",
    "            continue\n",
    "        if d >= thres:\n",
    "            pos_edges.append((r, c))\n",
    "        filter_edges.append((r, c))\n",
    "\n",
    "    G = nx.from_numpy_matrix(adj)\n",
    "    pos = nx.kamada_kawai_layout(G)\n",
    "\n",
    "    colors = ['orange', 'lime', 'red', 'blue', 'maroon', 'brown', 'darkslategray', 'paleturquoise', 'darksalmon',\n",
    "              'slategray', 'mediumseagreen', 'mediumblue', 'orchid']\n",
    "\n",
    "    # nodes\n",
    "\n",
    "    nmb_nodes = after_adj_dense.shape[0]\n",
    "\n",
    "    node_filter = []\n",
    "    for node in range(nmb_nodes):\n",
    "        if node in G.nodes():\n",
    "            node_filter.append(node)\n",
    "\n",
    "    nx.draw_networkx_nodes(G, pos,\n",
    "                           nodelist=node_filter,\n",
    "                           node_color=colors[0],\n",
    "                           node_size=300)\n",
    "\n",
    "    nx.draw_networkx_edges(G, pos, width=2, edge_color='grey')\n",
    "\n",
    "    nx.draw_networkx_edges(G, pos,\n",
    "                           edgelist=pos_edges,\n",
    "                           width=7)\n",
    "\n",
    "    plt.axis('off')\n",
    "    plt.show()\n",
    "    plt.clf()\n"
   ]
  },
  {
   "cell_type": "code",
   "execution_count": 6,
   "metadata": {},
   "outputs": [],
   "source": [
    "def explain_graph(gid):\n",
    "    fea,emb,adj,label,graphid = features[gid], embs[gid], adjs[gid], labels[gid], gid\n",
    "    explainer((fea,emb,adj,1.0,label))\n",
    "    insert = 20\n",
    "    acc(adj,insert)"
   ]
  },
  {
   "cell_type": "code",
   "execution_count": 7,
   "metadata": {},
   "outputs": [],
   "source": [
    "def test():\n",
    "    global preds\n",
    "    global reals\n",
    "    preds = []\n",
    "    reals = []\n",
    "    for gid in allnodes:\n",
    "        explain_graph(gid)\n",
    "    auc = roc_auc_score(reals,preds)\n",
    "    return auc"
   ]
  },
  {
   "cell_type": "code",
   "execution_count": 8,
   "metadata": {},
   "outputs": [],
   "source": [
    "def train():\n",
    "    epochs = 10\n",
    "    t0 = args.coff_t0\n",
    "    t1 = args.coff_te\n",
    "\n",
    "    for epoch in range(epochs):\n",
    "        if epoch%1==0:\n",
    "            auc = test()\n",
    "            print('auc',auc)\n",
    "\n",
    "            \n",
    "        loss = 0\n",
    "        tmp = float(t0 * np.power(t1 / t0, epoch /epochs))\n",
    "        train_instances = [ins for ins in range(adjs.shape[0])]\n",
    "        np.random.shuffle(train_instances)\n",
    "        for gid in train_instances:\n",
    "            with tf.GradientTape() as tape:\n",
    "                pred = explainer((features[gid],embs[gid],adjs[gid],tmp, labels[gid]),training=True)\n",
    "                loss += explainer.loss(pred, labels[gid])\n",
    "                \n",
    "#         train_variables = [para for para in explainer.trainable_variables\n",
    "#                            if para.name.startswith('explainer')]\n",
    "        train_variables = [para for para in explainer.trainable_variables]\n",
    "        grads = tape.gradient(loss, train_variables)\n",
    "        optimizer.apply_gradients(zip(grads, train_variables))\n",
    "        print('epoch',epoch,'loss',loss.numpy())\n"
   ]
  },
  {
   "cell_type": "code",
   "execution_count": 9,
   "metadata": {},
   "outputs": [
    {
     "name": "stdout",
     "output_type": "stream",
     "text": [
      "WARNING:tensorflow:Layer explainer is casting an input tensor from dtype float64 to the layer's dtype of float32, which is new behavior in TensorFlow 2.  The layer has dtype float32 because it's dtype defaults to floatx.\n",
      "\n",
      "If you intended to run this layer in float32, you can safely ignore this warning. If in doubt, this warning is likely only an issue if you are porting a TensorFlow 1.X model to TensorFlow 2.\n",
      "\n",
      "To change all layers to have dtype float64 by default, call `tf.keras.backend.set_floatx('float64')`. To change just this layer, pass dtype='float64' to the layer constructor. If you are the author of this layer, you can disable autocasting by passing autocast=False to the base Layer constructor.\n",
      "\n",
      "auc 0.6886036565885394\n",
      "epoch 0 loss 4006.3494\n",
      "auc 0.981539619093259\n",
      "epoch 1 loss 3177.0813\n",
      "auc 0.9976484899146119\n",
      "epoch 2 loss 2603.2656\n",
      "auc 0.9985121964944381\n",
      "epoch 3 loss 2166.662\n",
      "auc 0.9984294903212222\n",
      "epoch 4 loss 1819.2421\n",
      "auc 0.9983994256629201\n",
      "epoch 5 loss 1569.9323\n",
      "auc 0.9982365092503849\n",
      "epoch 6 loss 1373.8665\n",
      "auc 0.9975669182568034\n",
      "epoch 7 loss 1287.1733\n",
      "auc 0.9969489477142691\n",
      "epoch 8 loss 1233.2688\n",
      "auc 0.9957201540762685\n",
      "epoch 9 loss 1249.6897\n"
     ]
    }
   ],
   "source": [
    "train()"
   ]
  },
  {
   "cell_type": "code",
   "execution_count": 10,
   "metadata": {},
   "outputs": [
    {
     "name": "stdout",
     "output_type": "stream",
     "text": [
      "0.994610257652987\n"
     ]
    }
   ],
   "source": [
    "auc = test()\n",
    "print(auc)"
   ]
  },
  {
   "cell_type": "code",
   "execution_count": 11,
   "metadata": {},
   "outputs": [
    {
     "data": {
      "image/png": "[encoded data removed]",
      "text/plain": [
       "<Figure size 432x288 with 1 Axes>"
      ]
     },
     "metadata": {},
     "output_type": "display_data"
    },
    {
     "data": {
      "text/plain": [
       "<Figure size 432x288 with 0 Axes>"
      ]
     },
     "metadata": {},
     "output_type": "display_data"
    }
   ],
   "source": [
    "gid = 501\n",
    "topk=6\n",
    "fea,emb,adj,label,graphid = features[gid], embs[gid], adjs[gid], labels[gid], gid\n",
    "explainer((fea,emb,adj,1.0,label))\n",
    "plot(adj,label,graphid)\n"
   ]
  },
  {
   "cell_type": "code",
   "execution_count": 12,
   "metadata": {},
   "outputs": [
    {
     "data": {
      "image/png": "[encoded data removed]",
      "text/plain": [
       "<Figure size 432x288 with 1 Axes>"
      ]
     },
     "metadata": {},
     "output_type": "display_data"
    },
    {
     "data": {
      "text/plain": [
       "<Figure size 432x288 with 0 Axes>"
      ]
     },
     "metadata": {},
     "output_type": "display_data"
    }
   ],
   "source": [
    "gid = 1\n",
    "topk=5\n",
    "fea,emb,adj,label,graphid = features[gid], embs[gid], adjs[gid], labels[gid], gid\n",
    "explainer((fea,emb,adj,1.0,label))\n",
    "plot(adj,label,graphid)"
   ]
  },
  {
   "cell_type": "code",
   "execution_count": null,
   "metadata": {},
   "outputs": [],
   "source": []
  }
 ],
 "metadata": {
  "kernelspec": {
   "display_name": "tf22",
   "language": "python",
   "name": "tf22"
  },
  "language_info": {
   "codemirror_mode": {
    "name": "ipython",
    "version": 3
   },
   "file_extension": ".py",
   "mimetype": "text/x-python",
   "name": "python",
   "nbconvert_exporter": "python",
   "pygments_lexer": "ipython3",
   "version": "3.7.7"
  }
 },
 "nbformat": 4,
 "nbformat_minor": 4
}
